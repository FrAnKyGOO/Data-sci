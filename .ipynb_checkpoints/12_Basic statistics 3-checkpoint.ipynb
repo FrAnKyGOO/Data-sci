{
 "cells": [
  {
   "cell_type": "markdown",
   "metadata": {},
   "source": [
    "#### ข้อมูลเชิงคุณภาพ (Qualitative data) หรือข้อมูลจำแนกประเภท (Categorical Data)\n"
   ]
  },
  {
   "cell_type": "markdown",
   "metadata": {},
   "source": [
    "#### 2. การแบ่งข้อมูล(ตัวเลข) ออกเป็นช่วงเพื่อทำให้ข้อมูลเป็น category type เช่น แบ่งช่วงอายุ แบ่งช่วงรายได้ เป็นต้น"
   ]
  },
  {
   "cell_type": "code",
   "execution_count": null,
   "metadata": {},
   "outputs": [],
   "source": [
    "import pandas as pd\n",
    "import numpy as np\n",
    "from pandas.api.types import CategoricalDtype"
   ]
  },
  {
   "cell_type": "code",
   "execution_count": null,
   "metadata": {},
   "outputs": [],
   "source": [
    "#https://github.com/mathawanup/learn_dataset/blob/master/staff.csv\n",
    "url='https://github.com/mathawanup/learn_dataset/raw/master/staff.csv'\n",
    "df=pd.read_csv(url)\n",
    "df"
   ]
  },
  {
   "cell_type": "code",
   "execution_count": null,
   "metadata": {
    "scrolled": true
   },
   "outputs": [],
   "source": [
    "df=pd.read_csv(url, index_col='empID', parse_dates=['dob', 'join_date'])\n",
    "df"
   ]
  },
  {
   "cell_type": "code",
   "execution_count": null,
   "metadata": {},
   "outputs": [],
   "source": [
    "df['age']=pd.to_datetime('today').year - df.dob.dt.year\n",
    "df"
   ]
  },
  {
   "cell_type": "code",
   "execution_count": null,
   "metadata": {
    "scrolled": true
   },
   "outputs": [],
   "source": [
    "age_cat = [\"18-25\", \"26-30\", \"31-40\", \"41-50\", \"50+\"]\n",
    "df['age_group'] = pd.cut(df.age, \n",
    "         bins=[18, 25, 30, 40, 50, np.Inf], \n",
    "         labels= age_cat,\n",
    "         right=True, \n",
    "         include_lowest=True).astype(CategoricalDtype(age_cat, ordered=True))\n",
    "df"
   ]
  },
  {
   "cell_type": "code",
   "execution_count": null,
   "metadata": {},
   "outputs": [],
   "source": [
    "salary_bucket=[\"0-15,000\", \"15,001-30,000\", \"30,001-50,000\", \"50,001-80,000\", \"80,001+\"]\n",
    "df['salary_group'] = pd.cut(df.salary,\n",
    "                           bins=[0, 15000, 30000, 50000, 80000, np.Inf],\n",
    "                           labels=salary_bucket,\n",
    "                           right=True,include_lowest=True).astype(CategoricalDtype(salary_bucket, ordered=True)) \n",
    "\n",
    "df"
   ]
  },
  {
   "cell_type": "code",
   "execution_count": null,
   "metadata": {
    "scrolled": false
   },
   "outputs": [],
   "source": [
    "df.sort_values(by='salary_group')"
   ]
  },
  {
   "cell_type": "code",
   "execution_count": null,
   "metadata": {},
   "outputs": [],
   "source": [
    "df.salary_group"
   ]
  },
  {
   "cell_type": "code",
   "execution_count": null,
   "metadata": {},
   "outputs": [],
   "source": []
  }
 ],
 "metadata": {
  "kernelspec": {
   "display_name": "Python 3",
   "language": "python",
   "name": "python3"
  },
  "language_info": {
   "codemirror_mode": {
    "name": "ipython",
    "version": 3
   },
   "file_extension": ".py",
   "mimetype": "text/x-python",
   "name": "python",
   "nbconvert_exporter": "python",
   "pygments_lexer": "ipython3",
   "version": "3.8.5"
  }
 },
 "nbformat": 4,
 "nbformat_minor": 4
}
